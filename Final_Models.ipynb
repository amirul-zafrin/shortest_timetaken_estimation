{
 "cells": [
  {
   "cell_type": "markdown",
   "id": "9c9c05d2",
   "metadata": {
    "id": "9c9c05d2"
   },
   "source": [
    "# Import Libraries\n"
   ]
  },
  {
   "cell_type": "code",
   "execution_count": null,
   "id": "ee2fcc82",
   "metadata": {
    "id": "ee2fcc82"
   },
   "outputs": [],
   "source": [
    "import pandas as pd\n",
    "import matplotlib.pyplot as plt\n",
    "import numpy as np\n",
    "import seaborn as sns\n",
    "import plotly.graph_objects as go\n",
    "import plotly.express as px\n",
    "import xgboost as xgb\n",
    "import optuna\n",
    "from sklearn import metrics\n",
    "from sklearn.model_selection import train_test_split\n",
    "from sklearn.preprocessing import OrdinalEncoder\n",
    "from xgboost import XGBRegressor\n",
    "from sklearn.model_selection import KFold\n",
    "from sklearn.model_selection import cross_val_score"
   ]
  },
  {
   "cell_type": "code",
   "execution_count": null,
   "id": "fda5cdba",
   "metadata": {
    "id": "fda5cdba"
   },
   "outputs": [],
   "source": [
    "plt.rcParams['figure.figsize'] = [10, 10]"
   ]
  },
  {
   "cell_type": "markdown",
   "id": "d866e9ac",
   "metadata": {
    "id": "d866e9ac"
   },
   "source": [
    "# Data Checking and Preparation"
   ]
  },
  {
   "cell_type": "code",
   "execution_count": null,
   "id": "69601940",
   "metadata": {
    "id": "69601940"
   },
   "outputs": [],
   "source": [
    "# training_file_path = '/content/drive/MyDrive/MEC_dataset/training_WeeklyAggregate.xlsx'\n",
    "# testing_file_path = '/content/drive/MyDrive/MEC_dataset/testing_dataset.csv'\n",
    "# london_file_path = '/content/drive/MyDrive/MEC_dataset/london.json'\n",
    "\n",
    "training_data = pd.read_csv(\"../MEC_dataset/training_dataset.csv\",index_col=0)\n",
    "# testing_data = pd.read_csv(testing_file_path)\n",
    "# london = gpd.read_file(london_file_path)"
   ]
  },
  {
   "cell_type": "code",
   "execution_count": null,
   "id": "e22d983f",
   "metadata": {},
   "outputs": [],
   "source": [
    "training_data.columns"
   ]
  },
  {
   "cell_type": "markdown",
   "id": "ac897976",
   "metadata": {
    "id": "ac897976"
   },
   "source": [
    "# Data Analysis"
   ]
  },
  {
   "cell_type": "code",
   "execution_count": null,
   "id": "c047915a",
   "metadata": {
    "id": "c047915a"
   },
   "outputs": [],
   "source": [
    "df = training_data.copy()"
   ]
  },
  {
   "cell_type": "code",
   "execution_count": null,
   "id": "841e3175",
   "metadata": {
    "id": "841e3175"
   },
   "outputs": [],
   "source": [
    "def hist_plot(df):\n",
    "    \"\"\" Histogram Plot \"\"\"\n",
    "    \n",
    "    data_var = list(df.columns)\n",
    "  \n",
    "    figure, axes = plt.subplots(df.shape[1], 1, figsize=(16,len(data_var)*2))\n",
    "    figure.subplots_adjust(hspace=1)\n",
    "    for i, n in enumerate(df.columns):\n",
    "        sns.histplot(data = df[n], ax=axes.flatten()[i])  # widths = 0.5, patch_artist=True, vert=0\n",
    "    plt.tight_layout()\n",
    "    plt.style.use('seaborn-whitegrid')\n",
    "    plt.close()\n",
    "  \n",
    "    return figure"
   ]
  },
  {
   "cell_type": "code",
   "execution_count": null,
   "id": "23e3e36b",
   "metadata": {
    "colab": {
     "base_uri": "https://localhost:8080/",
     "height": 1000
    },
    "id": "23e3e36b",
    "outputId": "d4c58a70-807c-47fb-8607-3324545ec731",
    "scrolled": false
   },
   "outputs": [],
   "source": [
    "hist_plot(df)"
   ]
  },
  {
   "cell_type": "code",
   "execution_count": null,
   "id": "0c6cf5d5",
   "metadata": {
    "colab": {
     "base_uri": "https://localhost:8080/"
    },
    "id": "0c6cf5d5",
    "outputId": "120b0390-9f7e-47f6-e8fd-248a7e51a886"
   },
   "outputs": [],
   "source": [
    "df.skew().sort_values(ascending=False)"
   ]
  },
  {
   "cell_type": "code",
   "execution_count": null,
   "id": "4af63ed2",
   "metadata": {
    "colab": {
     "base_uri": "https://localhost:8080/",
     "height": 679
    },
    "id": "4af63ed2",
    "outputId": "1c5b45f6-4b58-4fe9-d19a-898375336c55"
   },
   "outputs": [],
   "source": [
    "corr = df.corr()\n",
    "sns.heatmap(corr, cmap=\"RdBu\")"
   ]
  },
  {
   "cell_type": "markdown",
   "id": "8bc60540",
   "metadata": {
    "id": "8bc60540"
   },
   "source": [
    "##### Strong positive correlation between mean travel time and distance"
   ]
  },
  {
   "cell_type": "markdown",
   "id": "3dfa9143",
   "metadata": {
    "id": "3dfa9143"
   },
   "source": [
    "# Feature Transformation"
   ]
  },
  {
   "cell_type": "code",
   "execution_count": null,
   "id": "1f79f46c",
   "metadata": {},
   "outputs": [],
   "source": [
    "df.columns"
   ]
  },
  {
   "cell_type": "code",
   "execution_count": null,
   "id": "c087f90c",
   "metadata": {
    "id": "c087f90c"
   },
   "outputs": [],
   "source": [
    "df['area_src_reci'] =  1/df.area_src\n",
    "df['area_dst_reci'] =  1/df.area_dst\n",
    "df[\"oneway_length_sqrt\"] = np.sqrt(df[\"oneway_length\"])\n",
    "df[\"fastest_travel_time_sqrt\"] = np.sqrt(df[\"fastest_travel_time\"])"
   ]
  },
  {
   "cell_type": "code",
   "execution_count": null,
   "id": "268a2316",
   "metadata": {
    "colab": {
     "base_uri": "https://localhost:8080/",
     "height": 223
    },
    "id": "268a2316",
    "outputId": "082d1b4a-7ec2-44f0-ec06-c236052f035f",
    "scrolled": false
   },
   "outputs": [],
   "source": [
    "df.head()"
   ]
  },
  {
   "cell_type": "code",
   "execution_count": null,
   "id": "4f07987c",
   "metadata": {
    "colab": {
     "base_uri": "https://localhost:8080/"
    },
    "id": "4f07987c",
    "outputId": "1adc7d27-9612-441d-f222-7523045a52d7"
   },
   "outputs": [],
   "source": [
    "df.skew().sort_values(ascending=False)"
   ]
  },
  {
   "cell_type": "markdown",
   "id": "f7c8335d",
   "metadata": {
    "id": "f7c8335d"
   },
   "source": [
    "# Modelling"
   ]
  },
  {
   "cell_type": "code",
   "execution_count": null,
   "id": "5dd26e00",
   "metadata": {
    "id": "5dd26e00"
   },
   "outputs": [],
   "source": [
    "y = df.mean_travel_time\n",
    "features = ['sourceid','dstid',#'dow','area_src_reci','area_dst_reci',#'dist_geo_sqrt',\n",
    "            'la_name_src','la_name_dst','direction','maxspeed_traveltime','fastest_travel_time_sqrt','oneway_length_sqrt']\n",
    "X = df[features]\n",
    "X_train, X_valid, y_train, y_valid = train_test_split(X, y, train_size=0.8, test_size=0.2,random_state=123)"
   ]
  },
  {
   "cell_type": "markdown",
   "id": "F90GD5A5svc0",
   "metadata": {
    "id": "F90GD5A5svc0"
   },
   "source": [
    "## Model 1"
   ]
  },
  {
   "cell_type": "code",
   "execution_count": null,
   "id": "e8e7101e",
   "metadata": {
    "colab": {
     "base_uri": "https://localhost:8080/"
    },
    "id": "e8e7101e",
    "outputId": "b65ed8dd-59e3-4d23-d0cb-f142c6f23dc0"
   },
   "outputs": [],
   "source": [
    "my_model_1 = XGBRegressor(random_state = 123)\n",
    "\n",
    "my_model_1.fit(X_train,y_train)\n",
    "\n",
    "predictions_1 = my_model_1.predict(X_valid)\n",
    "\n",
    "mse_1 = metrics.mean_squared_error(y_valid,predictions_1)\n",
    "\n",
    "print(\"Mean Squared Error:\" , mse_1)"
   ]
  },
  {
   "cell_type": "code",
   "execution_count": null,
   "id": "2a341100",
   "metadata": {
    "colab": {
     "base_uri": "https://localhost:8080/",
     "height": 634
    },
    "id": "2a341100",
    "outputId": "72ba3c0b-1333-486e-a0be-1704a28c3087"
   },
   "outputs": [],
   "source": [
    "xgb.plot_importance(my_model_1, max_num_features=10)"
   ]
  },
  {
   "cell_type": "code",
   "execution_count": null,
   "id": "663c6f0d",
   "metadata": {
    "colab": {
     "base_uri": "https://localhost:8080/",
     "height": 602
    },
    "id": "663c6f0d",
    "outputId": "09ebc413-b9d1-4a21-9dbe-c948a18dbcac"
   },
   "outputs": [],
   "source": [
    "plt.scatter(y_valid,predictions_1)\n",
    "xpoints = ypoints = plt.xlim()\n",
    "plt.plot(xpoints, ypoints, 'k-', alpha=0.75, zorder=0)\n",
    "plt.xlabel('Actual')\n",
    "plt.ylabel('Pred')\n",
    "plt.show()"
   ]
  },
  {
   "cell_type": "markdown",
   "id": "9KwA0mwxsyHO",
   "metadata": {
    "id": "9KwA0mwxsyHO"
   },
   "source": [
    "## Model 2"
   ]
  },
  {
   "cell_type": "code",
   "execution_count": null,
   "id": "fbe2f08a",
   "metadata": {
    "colab": {
     "base_uri": "https://localhost:8080/"
    },
    "id": "fbe2f08a",
    "outputId": "0937a23c-f4f5-44ee-97bb-552ef271dd0d"
   },
   "outputs": [],
   "source": [
    "my_model_2 = XGBRegressor(n_estimators = 725, learning_rate = 0.05, random_state = 123)\n",
    "\n",
    "my_model_2.fit(X_train,y_train,\n",
    "              early_stopping_rounds = 10,\n",
    "              eval_set = [(X_valid,y_valid)])\n",
    "\n",
    "predictions_2 = my_model_2.predict(X_valid)\n",
    "\n",
    "mse_2 = metrics.mean_squared_error(y_valid,predictions_2)\n",
    "\n",
    "print(\"Mean Squared Error:\" , mse_2)"
   ]
  },
  {
   "cell_type": "code",
   "execution_count": null,
   "id": "c1d18f2c",
   "metadata": {
    "colab": {
     "base_uri": "https://localhost:8080/"
    },
    "id": "c1d18f2c",
    "outputId": "d765366b-5c5e-43fd-859f-08e41b136ea1"
   },
   "outputs": [],
   "source": [
    "print(\"Mean Squared Error:\" , mse_2)"
   ]
  },
  {
   "cell_type": "code",
   "execution_count": null,
   "id": "e02d5ed7",
   "metadata": {
    "colab": {
     "base_uri": "https://localhost:8080/",
     "height": 634
    },
    "id": "e02d5ed7",
    "outputId": "e22be308-1248-440e-f63d-954a3419257a"
   },
   "outputs": [],
   "source": [
    "xgb.plot_importance(my_model_2, max_num_features=10)"
   ]
  },
  {
   "cell_type": "code",
   "execution_count": null,
   "id": "4d155051",
   "metadata": {
    "colab": {
     "base_uri": "https://localhost:8080/",
     "height": 602
    },
    "id": "4d155051",
    "outputId": "8b8276f1-6be1-42bb-fc9f-d451b173079e"
   },
   "outputs": [],
   "source": [
    "plt.scatter(y_valid,predictions_2)\n",
    "xpoints = ypoints = plt.xlim()\n",
    "plt.plot(xpoints, ypoints, 'k-', alpha=0.75, zorder=0)\n",
    "plt.xlabel('Actual')\n",
    "plt.ylabel('Pred')\n",
    "plt.show()"
   ]
  },
  {
   "cell_type": "markdown",
   "id": "8eRzRNqis05H",
   "metadata": {
    "id": "8eRzRNqis05H"
   },
   "source": [
    "## Model 3"
   ]
  },
  {
   "cell_type": "code",
   "execution_count": null,
   "id": "d04fad2b",
   "metadata": {
    "colab": {
     "base_uri": "https://localhost:8080/"
    },
    "id": "d04fad2b",
    "outputId": "b756716b-ac3e-45ce-9769-0ae082d6b006",
    "scrolled": false
   },
   "outputs": [],
   "source": [
    "params = {'learning_rate': 0.024704224090189218,\n",
    "          'reg_lambda': 2.936733664947117,\n",
    "          'reg_alpha': 57.40870727344214,\n",
    "          'subsample': 0.6214411004415425,\n",
    "          'colsample_bytree': 0.6251175460789683,\n",
    "          'max_depth': 6}\n",
    "my_model_3 = XGBRegressor(n_estimators = 3642, random_state = 123,**params)\n",
    "\n",
    "my_model_3.fit(X_train,y_train,\n",
    "              early_stopping_rounds = 10,\n",
    "              eval_set = [(X_valid,y_valid)])\n",
    "\n",
    "predictions_3 = my_model_3.predict(X_valid)\n",
    "mse_3 = metrics.mean_squared_error(y_valid,predictions_3)"
   ]
  },
  {
   "cell_type": "code",
   "execution_count": null,
   "id": "43c8ceed",
   "metadata": {
    "colab": {
     "base_uri": "https://localhost:8080/"
    },
    "id": "43c8ceed",
    "outputId": "7925f7e3-cb92-4bee-8ec2-23aac39e9517"
   },
   "outputs": [],
   "source": [
    "print(\"RMSE:\" , np.sqrt(mse_3))"
   ]
  },
  {
   "cell_type": "code",
   "execution_count": null,
   "id": "a0341b50",
   "metadata": {
    "colab": {
     "base_uri": "https://localhost:8080/",
     "height": 634
    },
    "id": "a0341b50",
    "outputId": "28f63a15-6ed0-406d-9962-7c769765e488"
   },
   "outputs": [],
   "source": [
    "xgb.plot_importance(my_model_3, max_num_features=10)"
   ]
  },
  {
   "cell_type": "code",
   "execution_count": null,
   "id": "e0df377e",
   "metadata": {
    "colab": {
     "base_uri": "https://localhost:8080/",
     "height": 602
    },
    "id": "e0df377e",
    "outputId": "14c7b6fc-c091-4bf0-95f2-4a26fee604f0"
   },
   "outputs": [],
   "source": [
    "plt.scatter(y_valid,predictions_3)\n",
    "xpoints = ypoints = plt.xlim()\n",
    "plt.plot(xpoints, ypoints, 'k-', alpha=0.75, zorder=0)\n",
    "plt.xlabel('Actual')\n",
    "plt.ylabel('Pred')\n",
    "plt.show()"
   ]
  },
  {
   "cell_type": "markdown",
   "id": "NVkLdym8tADb",
   "metadata": {
    "id": "NVkLdym8tADb"
   },
   "source": [
    "## Model 4"
   ]
  },
  {
   "cell_type": "code",
   "execution_count": null,
   "id": "172f0bd7",
   "metadata": {
    "id": "172f0bd7"
   },
   "outputs": [],
   "source": [
    "def run(trial):\n",
    "    fold = 0\n",
    "    n_estimators = trial.suggest_int(\"n_estimators\",50,5000)\n",
    "    learning_rate = trial.suggest_float(\"learning_rate\", 1e-2, 0.5, log=True)\n",
    "    reg_lambda = trial.suggest_loguniform(\"reg_lambda\", 1e-8, 100.0)\n",
    "    reg_alpha = trial.suggest_loguniform(\"reg_alpha\", 1e-8, 100.0)\n",
    "    subsample = trial.suggest_float(\"subsample\", 0.1, 1.0)\n",
    "    colsample_bytree = trial.suggest_float(\"colsample_bytree\", 0.1, 1.0)\n",
    "    max_depth = trial.suggest_int(\"max_depth\", 1, 12)\n",
    "\n",
    "    my_model_4 = XGBRegressor(\n",
    "                 random_state=123,\n",
    "                 n_estimators=n_estimators,\n",
    "                 learning_rate=learning_rate,\n",
    "                 reg_lambda=reg_lambda,\n",
    "                 reg_alpha=reg_alpha,\n",
    "                 subsample=subsample,\n",
    "                 colsample_bytree=colsample_bytree,\n",
    "                 max_depth=max_depth,\n",
    "    )\n",
    "    \n",
    "    my_model_4.fit(X_train,y_train,\n",
    "              early_stopping_rounds = 100,\n",
    "              eval_set = [(X_valid,y_valid)])\n",
    "\n",
    "    predictions_4 = my_model_4.predict(X_valid)\n",
    "    mse_4 = metrics.mean_squared_error(y_valid,predictions_4)\n",
    "    \n",
    "    return mse_4\n",
    "    "
   ]
  },
  {
   "cell_type": "code",
   "execution_count": null,
   "id": "5cbe65da",
   "metadata": {
    "colab": {
     "background_save": true,
     "base_uri": "https://localhost:8080/"
    },
    "id": "5cbe65da",
    "outputId": "5050d4e8-6f63-45fa-b29c-1b55b499e56e"
   },
   "outputs": [],
   "source": [
    "study = optuna.create_study(direction=\"minimize\")\n",
    "study.optimize(run, n_trials=500)"
   ]
  },
  {
   "cell_type": "code",
   "execution_count": null,
   "id": "02e11ec4",
   "metadata": {
    "id": "02e11ec4"
   },
   "outputs": [],
   "source": [
    "study.best_params"
   ]
  },
  {
   "cell_type": "markdown",
   "id": "6078598a",
   "metadata": {
    "id": "6078598a"
   },
   "source": [
    "# Result Analysis"
   ]
  },
  {
   "cell_type": "code",
   "execution_count": null,
   "id": "f90e49b0",
   "metadata": {
    "colab": {
     "base_uri": "https://localhost:8080/"
    },
    "id": "f90e49b0",
    "outputId": "369e296c-5fb1-4dfe-9dc6-e50ff585cf53"
   },
   "outputs": [],
   "source": [
    "result = X_valid\n",
    "result[\"mean_travel_time\"] = y_valid\n",
    "result[\"predicted\"] = predictions_3\n",
    "result[\"diff\"] = abs(result[\"mean_travel_time\"] - result[\"predicted\"])\n",
    "result[\"diff_in_%\"] = ((abs(result[\"mean_travel_time\"] - result[\"predicted\"]))/result[\"mean_travel_time\"]) * 100\n",
    "result['sqrt_diff'] = (abs(result['mean_travel_time'] - result['predicted']))**(1/2)"
   ]
  },
  {
   "cell_type": "code",
   "execution_count": null,
   "id": "52d64c95",
   "metadata": {
    "colab": {
     "base_uri": "https://localhost:8080/",
     "height": 554
    },
    "id": "52d64c95",
    "outputId": "d9520c99-cb92-4c8b-cc10-de1afa0f8d31"
   },
   "outputs": [],
   "source": [
    "result.sort_values('diff_in_%',inplace=True)\n",
    "result"
   ]
  },
  {
   "cell_type": "code",
   "execution_count": null,
   "id": "fdb83db5",
   "metadata": {
    "colab": {
     "base_uri": "https://localhost:8080/",
     "height": 588
    },
    "id": "fdb83db5",
    "outputId": "3cc0f76b-530b-4510-952c-cca6a8039023"
   },
   "outputs": [],
   "source": [
    "plt.scatter(result[\"mean_travel_time\"],result[\"diff_in_%\"])\n",
    "plt.show()"
   ]
  },
  {
   "cell_type": "code",
   "execution_count": null,
   "id": "ee47f690",
   "metadata": {
    "colab": {
     "base_uri": "https://localhost:8080/"
    },
    "id": "ee47f690",
    "outputId": "868aa082-1e71-4ff8-d5cd-40fb882863ef"
   },
   "outputs": [],
   "source": [
    "result[\"dist_geo_sqrt\"].sort_values()"
   ]
  },
  {
   "cell_type": "markdown",
   "id": "adadb5b0",
   "metadata": {
    "id": "adadb5b0"
   },
   "source": [
    "# Final Model"
   ]
  },
  {
   "cell_type": "code",
   "execution_count": null,
   "id": "1cd03de4",
   "metadata": {
    "colab": {
     "base_uri": "https://localhost:8080/"
    },
    "id": "1cd03de4",
    "outputId": "6de790fb-2339-4dd5-881d-1ff1c7090c41"
   },
   "outputs": [],
   "source": [
    "y = df.mean_travel_time\n",
    "features = ['sourceid','dstid','dow','area_src_reci','area_dst_reci','dist_geo_sqrt','la_name_src','la_name_dst','direction']\n",
    "X = df[features]\n",
    "\n",
    "Final_model = my_model_3\n",
    "Final_model.fit(X,y)\n",
    "              "
   ]
  },
  {
   "cell_type": "code",
   "execution_count": null,
   "id": "341b4c92",
   "metadata": {
    "colab": {
     "base_uri": "https://localhost:8080/",
     "height": 487
    },
    "id": "341b4c92",
    "outputId": "d8b8e4c1-ae17-4eff-b198-b8b6d2eb9ed2"
   },
   "outputs": [],
   "source": [
    "testing1 = testing_data.merge(london, left_on = \"sourceid\", right_on = \"MOVEMENT_ID\", how = \"left\")\n",
    "testing2 = testing1.rename({\"geoeast\":\"geoeast_src\", \"geonorth\":\"geonorth_src\",\"popeast\":\"popeast_src\",\"popnorth\":\"popnorth_src\"}, axis = 1)\n",
    "testing3 = testing2.merge(london, left_on = \"dstid\", right_on = \"MOVEMENT_ID\", how = \"left\")\n",
    "testing4 = testing3.rename({\"geoeast\":\"geoeast_dst\", \"geonorth\":\"geonorth_dst\",\"popeast\":\"popeast_dst\",\"popnorth\":\"popnorth_dst\"}, axis = 1)\n",
    "features = [\"sourceid\",\"dstid\",\"dow\",\"la_name_x\",\"area_km2_x\",\"geoeast_src\",\"geonorth_src\",\"popeast_src\",\"popnorth_src\",\"la_name_y\",\"area_km2_y\",\"geoeast_dst\",\"geonorth_dst\",\"popeast_dst\",\"popnorth_dst\"]\n",
    "testing5 = testing4[features]\n",
    "Final_testing_data = testing5.rename({\"la_name_x\":\"la_name_src\",\"la_name_y\":\"la_name_dst\",\"area_km2_x\":\"area_src\",\"area_km2_y\":\"area_dst\"},axis=1)\n",
    "Final_testing_data"
   ]
  },
  {
   "cell_type": "code",
   "execution_count": null,
   "id": "0ff265d3",
   "metadata": {
    "id": "0ff265d3"
   },
   "outputs": [],
   "source": [
    "Final_testing_data['dist_geo'] = np.linalg.norm(Final_testing_data.loc[:, ['geoeast_src','geonorth_src']].values - Final_testing_data.loc[:, ['geoeast_dst','geonorth_dst']], axis=1)\n",
    "Final_testing_data['dist_pop'] = np.linalg.norm(Final_testing_data.loc[:, ['popeast_src','popnorth_src']].values - Final_testing_data.loc[:, ['popeast_dst','popnorth_dst']], axis=1)\n",
    "xDiff = Final_testing_data.loc[:, 'geonorth_dst'].values - Final_testing_data.loc[:, 'geonorth_src'].values\n",
    "yDiff = Final_testing_data.loc[:, 'geoeast_dst'].values - Final_testing_data.loc[:, 'geoeast_src'].values\n",
    "Final_testing_data.loc[:,'direction'] = np.degrees(np.arctan2(yDiff,xDiff))"
   ]
  },
  {
   "cell_type": "code",
   "execution_count": null,
   "id": "07c1abf2",
   "metadata": {
    "colab": {
     "base_uri": "https://localhost:8080/",
     "height": 437
    },
    "id": "07c1abf2",
    "outputId": "851671f2-7417-405f-fd41-585c23a18e01"
   },
   "outputs": [],
   "source": [
    "ordinal_encoder = OrdinalEncoder()\n",
    "object_cols = [\"la_name_src\",\"la_name_dst\"]\n",
    "Final_testing_data[object_cols] = ordinal_encoder.fit_transform(Final_testing_data[object_cols])\n",
    "Final_testing_data"
   ]
  },
  {
   "cell_type": "code",
   "execution_count": null,
   "id": "caca2d59",
   "metadata": {
    "id": "caca2d59"
   },
   "outputs": [],
   "source": [
    "Final_testing_data = Final_testing_data.drop(['geoeast_src','geonorth_src','popeast_src','popnorth_src','geoeast_dst','geonorth_dst','popeast_dst','popnorth_dst'], axis=1)"
   ]
  },
  {
   "cell_type": "code",
   "execution_count": null,
   "id": "620e51d5",
   "metadata": {
    "id": "620e51d5"
   },
   "outputs": [],
   "source": [
    "Final_testing_data['dist_geo_sqrt'] =  np.sqrt(Final_testing_data['dist_geo'])\n",
    "Final_testing_data['dist_pop_sqrt'] =  np.sqrt(Final_testing_data['dist_pop'])\n",
    "Final_testing_data['area_src_reci'] =  1/Final_testing_data.area_src\n",
    "Final_testing_data['area_dst_reci'] =  1/Final_testing_data.area_dst"
   ]
  },
  {
   "cell_type": "code",
   "execution_count": null,
   "id": "6c5c2a9c",
   "metadata": {
    "colab": {
     "base_uri": "https://localhost:8080/",
     "height": 437
    },
    "id": "6c5c2a9c",
    "outputId": "06698078-1d97-4957-c615-638f3c0d8937"
   },
   "outputs": [],
   "source": [
    "Final_testing_data"
   ]
  },
  {
   "cell_type": "code",
   "execution_count": null,
   "id": "3a7e77fd",
   "metadata": {
    "id": "3a7e77fd"
   },
   "outputs": [],
   "source": [
    "features = ['sourceid','dstid','dow','area_src_reci','area_dst_reci','dist_geo_sqrt','la_name_src','la_name_dst','direction']\n",
    "test_X  = Final_testing_data[features]"
   ]
  },
  {
   "cell_type": "code",
   "execution_count": null,
   "id": "c5073e57",
   "metadata": {
    "id": "c5073e57"
   },
   "outputs": [],
   "source": [
    "test_preds = Final_model.predict(test_X)"
   ]
  },
  {
   "cell_type": "code",
   "execution_count": null,
   "id": "49b14c6e",
   "metadata": {
    "colab": {
     "base_uri": "https://localhost:8080/"
    },
    "id": "49b14c6e",
    "outputId": "fa6282f2-39b6-4ff8-f585-26aa234e12c9"
   },
   "outputs": [],
   "source": [
    "test_preds"
   ]
  },
  {
   "cell_type": "code",
   "execution_count": null,
   "id": "7e01987f",
   "metadata": {
    "id": "7e01987f"
   },
   "outputs": [],
   "source": [
    "output = pd.DataFrame({'sourceid': testing_data.sourceid,\n",
    "                       'dstid': testing_data.dstid,\n",
    "                       'dow':testing_data.dow,\n",
    "                       'predicted_mean_travel_time':test_preds})\n",
    "output.to_csv('submission.csv', index=False)"
   ]
  },
  {
   "cell_type": "code",
   "execution_count": null,
   "id": "76a7cb87",
   "metadata": {
    "colab": {
     "base_uri": "https://localhost:8080/",
     "height": 417
    },
    "id": "76a7cb87",
    "outputId": "aee2da09-38d4-42df-965f-6d6df62dccd2"
   },
   "outputs": [],
   "source": [
    "output"
   ]
  },
  {
   "cell_type": "markdown",
   "id": "iUWv1yIxpkHb",
   "metadata": {
    "id": "iUWv1yIxpkHb"
   },
   "source": [
    "# Cross Validation\n"
   ]
  },
  {
   "cell_type": "code",
   "execution_count": null,
   "id": "JMGFfXiI0H2z",
   "metadata": {
    "colab": {
     "base_uri": "https://localhost:8080/"
    },
    "id": "JMGFfXiI0H2z",
    "outputId": "c664b11c-f846-4cbb-fde4-17e40e4c177b"
   },
   "outputs": [],
   "source": [
    "kfold = KFold(n_splits=5, random_state=123, shuffle=True)\n",
    "results = cross_val_score(my_model_3, X_train, y_train, cv=kfold)\n",
    "print(\"Accuracy: %.2f%% (%.2f%%)\" % (results.mean()*100, results.std()*100))"
   ]
  },
  {
   "cell_type": "code",
   "execution_count": null,
   "id": "81qo3Epx14lq",
   "metadata": {
    "colab": {
     "base_uri": "https://localhost:8080/"
    },
    "id": "81qo3Epx14lq",
    "outputId": "b51023d4-a1e6-4b5e-dd2f-63881b31e9ad"
   },
   "outputs": [],
   "source": [
    "results"
   ]
  }
 ],
 "metadata": {
  "colab": {
   "collapsed_sections": [
    "6078598a"
   ],
   "name": "Haw_Models.ipynb",
   "provenance": []
  },
  "kernelspec": {
   "display_name": "Python 3",
   "language": "python",
   "name": "python3"
  },
  "language_info": {
   "codemirror_mode": {
    "name": "ipython",
    "version": 3
   },
   "file_extension": ".py",
   "mimetype": "text/x-python",
   "name": "python",
   "nbconvert_exporter": "python",
   "pygments_lexer": "ipython3",
   "version": "3.8.8"
  }
 },
 "nbformat": 4,
 "nbformat_minor": 5
}
